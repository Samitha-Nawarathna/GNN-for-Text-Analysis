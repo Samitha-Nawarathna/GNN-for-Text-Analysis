{
  "nbformat": 4,
  "nbformat_minor": 0,
  "metadata": {
    "colab": {
      "provenance": [],
      "authorship_tag": "ABX9TyOCQRir9Z4/2TTC+raZhi3Y",
      "include_colab_link": true
    },
    "kernelspec": {
      "name": "python3",
      "display_name": "Python 3"
    },
    "language_info": {
      "name": "python"
    }
  },
  "cells": [
    {
      "cell_type": "markdown",
      "metadata": {
        "id": "view-in-github",
        "colab_type": "text"
      },
      "source": [
        "<a href=\"https://colab.research.google.com/github/Samitha-Nawarathna/GNN-for-Text-Analysis/blob/main/Model_Trainer.ipynb\" target=\"_parent\"><img src=\"https://colab.research.google.com/assets/colab-badge.svg\" alt=\"Open In Colab\"/></a>"
      ]
    },
    {
      "cell_type": "code",
      "source": [
        "from google.colab import drive\n",
        "drive.mount('/content/drive')"
      ],
      "metadata": {
        "colab": {
          "base_uri": "https://localhost:8080/"
        },
        "id": "7G3TYiFNCYtS",
        "outputId": "884c6442-4737-478d-edf7-8f242b29441f"
      },
      "execution_count": 1,
      "outputs": [
        {
          "output_type": "stream",
          "name": "stdout",
          "text": [
            "Mounted at /content/drive\n"
          ]
        }
      ]
    },
    {
      "cell_type": "code",
      "source": [
        "!pip install torch_geometric"
      ],
      "metadata": {
        "colab": {
          "base_uri": "https://localhost:8080/"
        },
        "id": "Ef0M9PKPDLHY",
        "outputId": "98def354-93bb-493e-bc39-cf25efe5d0d5"
      },
      "execution_count": 2,
      "outputs": [
        {
          "output_type": "stream",
          "name": "stdout",
          "text": [
            "Collecting torch_geometric\n",
            "  Downloading torch_geometric-2.3.1.tar.gz (661 kB)\n",
            "\u001b[2K     \u001b[90m━━━━━━━━━━━━━━━━━━━━━━━━━━━━━━━━━━━━━━━\u001b[0m \u001b[32m661.6/661.6 kB\u001b[0m \u001b[31m3.4 MB/s\u001b[0m eta \u001b[36m0:00:00\u001b[0m\n",
            "\u001b[?25h  Installing build dependencies ... \u001b[?25l\u001b[?25hdone\n",
            "  Getting requirements to build wheel ... \u001b[?25l\u001b[?25hdone\n",
            "  Preparing metadata (pyproject.toml) ... \u001b[?25l\u001b[?25hdone\n",
            "Requirement already satisfied: tqdm in /usr/local/lib/python3.10/dist-packages (from torch_geometric) (4.66.1)\n",
            "Requirement already satisfied: numpy in /usr/local/lib/python3.10/dist-packages (from torch_geometric) (1.23.5)\n",
            "Requirement already satisfied: scipy in /usr/local/lib/python3.10/dist-packages (from torch_geometric) (1.11.3)\n",
            "Requirement already satisfied: jinja2 in /usr/local/lib/python3.10/dist-packages (from torch_geometric) (3.1.2)\n",
            "Requirement already satisfied: requests in /usr/local/lib/python3.10/dist-packages (from torch_geometric) (2.31.0)\n",
            "Requirement already satisfied: pyparsing in /usr/local/lib/python3.10/dist-packages (from torch_geometric) (3.1.1)\n",
            "Requirement already satisfied: scikit-learn in /usr/local/lib/python3.10/dist-packages (from torch_geometric) (1.2.2)\n",
            "Requirement already satisfied: psutil>=5.8.0 in /usr/local/lib/python3.10/dist-packages (from torch_geometric) (5.9.5)\n",
            "Requirement already satisfied: MarkupSafe>=2.0 in /usr/local/lib/python3.10/dist-packages (from jinja2->torch_geometric) (2.1.3)\n",
            "Requirement already satisfied: charset-normalizer<4,>=2 in /usr/local/lib/python3.10/dist-packages (from requests->torch_geometric) (3.3.0)\n",
            "Requirement already satisfied: idna<4,>=2.5 in /usr/local/lib/python3.10/dist-packages (from requests->torch_geometric) (3.4)\n",
            "Requirement already satisfied: urllib3<3,>=1.21.1 in /usr/local/lib/python3.10/dist-packages (from requests->torch_geometric) (2.0.6)\n",
            "Requirement already satisfied: certifi>=2017.4.17 in /usr/local/lib/python3.10/dist-packages (from requests->torch_geometric) (2023.7.22)\n",
            "Requirement already satisfied: joblib>=1.1.1 in /usr/local/lib/python3.10/dist-packages (from scikit-learn->torch_geometric) (1.3.2)\n",
            "Requirement already satisfied: threadpoolctl>=2.0.0 in /usr/local/lib/python3.10/dist-packages (from scikit-learn->torch_geometric) (3.2.0)\n",
            "Building wheels for collected packages: torch_geometric\n",
            "  Building wheel for torch_geometric (pyproject.toml) ... \u001b[?25l\u001b[?25hdone\n",
            "  Created wheel for torch_geometric: filename=torch_geometric-2.3.1-py3-none-any.whl size=910454 sha256=2461d4ccb37d261527c6b4944fe5dc91322e5c833adb135d537edd48157d99ea\n",
            "  Stored in directory: /root/.cache/pip/wheels/ac/dc/30/e2874821ff308ee67dcd7a66dbde912411e19e35a1addda028\n",
            "Successfully built torch_geometric\n",
            "Installing collected packages: torch_geometric\n",
            "Successfully installed torch_geometric-2.3.1\n"
          ]
        }
      ]
    },
    {
      "cell_type": "code",
      "execution_count": 3,
      "metadata": {
        "id": "VpOuL2LHCNYm"
      },
      "outputs": [],
      "source": [
        "data_path = \"/content/drive/MyDrive/Datasets/bbc-full-text-document-classification/processed/\""
      ]
    },
    {
      "cell_type": "code",
      "source": [
        "import torch\n",
        "import torch_geometric\n",
        "import torch.nn as nn\n",
        "import torch_geometric.nn as gnn\n",
        "from torch_geometric.nn import aggr\n",
        "from torch_geometric.nn import MessagePassing\n",
        "from torch.utils.data import Dataset, random_split\n",
        "from torch.optim import Adam\n",
        "import glob\n",
        "import numpy as np"
      ],
      "metadata": {
        "id": "JdIclD5tC7AR"
      },
      "execution_count": 52,
      "outputs": []
    },
    {
      "cell_type": "code",
      "source": [
        "INPUT_SIZE = 50\n",
        "OUTPUT_SIZE = 5"
      ],
      "metadata": {
        "id": "sDhf9Uej0eQx"
      },
      "execution_count": 7,
      "outputs": []
    },
    {
      "cell_type": "code",
      "source": [
        "if torch.cuda.is_available():\n",
        "  device = 'cuda'\n",
        "else:\n",
        "  device = 'cpu'"
      ],
      "metadata": {
        "id": "N2NAED0E5ukK"
      },
      "execution_count": 34,
      "outputs": []
    },
    {
      "cell_type": "code",
      "source": [],
      "metadata": {
        "colab": {
          "base_uri": "https://localhost:8080/",
          "height": 35
        },
        "id": "Au-tmf186jZp",
        "outputId": "bbb97e4b-4147-4ae0-83aa-f8d0591780c6"
      },
      "execution_count": 35,
      "outputs": [
        {
          "output_type": "execute_result",
          "data": {
            "text/plain": [
              "'cpu'"
            ],
            "application/vnd.google.colaboratory.intrinsic+json": {
              "type": "string"
            }
          },
          "metadata": {},
          "execution_count": 35
        }
      ]
    },
    {
      "cell_type": "code",
      "source": [
        "class Graph_Dataset(Dataset):\n",
        "  def __init__(self,path):\n",
        "    super().__init__()\n",
        "    self.path = path\n",
        "    self.path_list = self.getPaths()\n",
        "\n",
        "  def getPaths(self):\n",
        "    return glob.glob(self.path+'*.pt')\n",
        "\n",
        "  def __len__(self):\n",
        "    return len(self.path_list)\n",
        "\n",
        "  def __getitem__(self,idx):\n",
        "    #print(idx)\n",
        "    if type(idx) == slice:\n",
        "      graphs = []\n",
        "      start ,step, stop = idx.start, idx.step, idx.stop\n",
        "      if start == None:\n",
        "        start =0\n",
        "      if stop == None:\n",
        "        stop = len(self.path_list)-1\n",
        "      if step == None:\n",
        "        step =1\n",
        "      #print(type(stop))\n",
        "      for item in range(start, stop, step):\n",
        "        graphs.append(torch.load(self.path_list[item]))\n",
        "      return graphs\n",
        "    return torch.load(self.path_list[idx])"
      ],
      "metadata": {
        "id": "4Jnu6kNwC8i_"
      },
      "execution_count": 70,
      "outputs": []
    },
    {
      "cell_type": "code",
      "source": [
        "dataset = Graph_Dataset(data_path)"
      ],
      "metadata": {
        "id": "l6O3AdusDEUY"
      },
      "execution_count": 71,
      "outputs": []
    },
    {
      "cell_type": "code",
      "source": [
        "train_size = int(0.8*len(dataset))\n",
        "test_size = int(0.1*len(dataset))\n",
        "val_size = len(dataset) - train_size - test_size\n",
        "train_set, test_set, val_set = random_split(dataset, [train_size, test_size, val_size])"
      ],
      "metadata": {
        "id": "AMCDDkaj6nQw"
      },
      "execution_count": 72,
      "outputs": []
    },
    {
      "cell_type": "code",
      "source": [
        "class MLP(nn.Module):\n",
        "  def __init__(self,input_size, output_size):\n",
        "    super().__init__()\n",
        "    self.p1 = nn.Linear(input_size, 100)\n",
        "    self.relu = nn.ReLU()\n",
        "    self.p2 = nn.Linear(100,50)\n",
        "    self.p3 = nn.Linear(50,output_size)\n",
        "\n",
        "  def forward(self,x):\n",
        "    x = self.p1(x)\n",
        "    x = self.relu(x)\n",
        "    x = self.p2(x)\n",
        "    x = self.relu(x)\n",
        "    x = self.p3(x)\n",
        "    return x\n",
        "\n",
        "class GraphModel(nn.Module):\n",
        "  def __init__(self,input_size, output_size):\n",
        "    super().__init__()\n",
        "    self.gconv1 = gnn.conv.GatedGraphConv(out_channels=50, num_layers=5)\n",
        "    self.f1 = MLP(input_size,output_size)\n",
        "    self.f2 = MLP(input_size,output_size)\n",
        "    self.sigmoid = nn.Sigmoid()\n",
        "    self.tanh = nn.Tanh()\n",
        "\n",
        "  def forward(self,x,edge_index,edge_attr):\n",
        "    x = self.gconv1(x, edge_index, edge_weight = edge_attr)\n",
        "    #print(x)\n",
        "    x1 = self.f1(x)\n",
        "    #print(x)\n",
        "    x2 = self.f2(x)\n",
        "    #print(x)\n",
        "    x = x1*x2\n",
        "    #print(x)\n",
        "    xg = (1/x.shape[0])*torch.sum(x,dim=0) + torch.max(x, dim=0).values\n",
        "    #print(x)\n",
        "    return xg\n",
        "    #x = self.attention(x)\n"
      ],
      "metadata": {
        "id": "1T6sCtyeIxcy"
      },
      "execution_count": 62,
      "outputs": []
    },
    {
      "cell_type": "code",
      "source": [
        "model = GraphModel(INPUT_SIZE, OUTPUT_SIZE).to(device)"
      ],
      "metadata": {
        "id": "3iuvCiaR0yZb"
      },
      "execution_count": 63,
      "outputs": []
    },
    {
      "cell_type": "code",
      "source": [
        "def extractGraph(graph):\n",
        "   x = graph.x.type(torch.float)\n",
        "   edge_index = graph.edge_index.type(torch.int64)\n",
        "   edge_attr = graph.edge_attr.type(torch.float)\n",
        "   return x, edge_index, edge_attr"
      ],
      "metadata": {
        "id": "Cf25w1TCi5EC"
      },
      "execution_count": 11,
      "outputs": []
    },
    {
      "cell_type": "code",
      "source": [
        "def getPrediction(graph, model):\n",
        "  x, edge_index, edge_attr = extractGraph(graph)\n",
        "  return model(x, edge_index, edge_attr)"
      ],
      "metadata": {
        "id": "Nm8ecLSSjIwQ"
      },
      "execution_count": 16,
      "outputs": []
    },
    {
      "cell_type": "code",
      "source": [
        "graph = dataset[5]"
      ],
      "metadata": {
        "colab": {
          "base_uri": "https://localhost:8080/"
        },
        "id": "hnPEu3Gqd9EF",
        "outputId": "5804d884-afff-47f2-93c9-9e3150e071b2"
      },
      "execution_count": 69,
      "outputs": [
        {
          "output_type": "stream",
          "name": "stdout",
          "text": [
            "5\n"
          ]
        }
      ]
    },
    {
      "cell_type": "code",
      "source": [
        "error = nn.CrossEntropyLoss()\n",
        "lr = 0.001\n",
        "optimizer = Adam(model.parameters(),lr=lr,betas=[0.99,0.95])"
      ],
      "metadata": {
        "id": "Oq41p0yl2N9s"
      },
      "execution_count": 31,
      "outputs": []
    },
    {
      "cell_type": "code",
      "source": [
        "def getValErrors(graph):\n",
        "  output = getPrediction(model)\n",
        "  return error(output, graph.y)\n",
        "\n",
        "getValErrors = np.vectorize(getValErrors)"
      ],
      "metadata": {
        "id": "X24Mfm0r5N3i"
      },
      "execution_count": 59,
      "outputs": []
    },
    {
      "cell_type": "code",
      "source": [
        "for i, graph in enumerate(train_set):\n",
        "  graph.to(device)\n",
        "  optimizer.zero_grad()\n",
        "  output = getPrediction(graph, model)\n",
        "  y = graph.y.to(device)\n",
        "  loss = error(output, y)\n",
        "  loss.backward()\n",
        "  optimizer.step()\n",
        "  if i%25==0 &i != 0:\n",
        "    val_errors = getValErrors(val_set)\n",
        "    val_loss = torch.sum(val_errors,axis=0)/len(val_set)\n",
        "    print(val_loss)\n",
        "  break"
      ],
      "metadata": {
        "id": "unx9Kf6n3i-V"
      },
      "execution_count": 73,
      "outputs": []
    },
    {
      "cell_type": "code",
      "source": [
        "def sqr(num):\n",
        "  return num**2\n",
        "sqr = np.vectorize(sqr)"
      ],
      "metadata": {
        "id": "f_x3T_Zz8UsT"
      },
      "execution_count": 53,
      "outputs": []
    },
    {
      "cell_type": "code",
      "source": [
        "x = torch.randn(10,)"
      ],
      "metadata": {
        "id": "Pv62fMhB8a3c"
      },
      "execution_count": 54,
      "outputs": []
    },
    {
      "cell_type": "code",
      "source": [
        "torch.tensor(sqr(x))"
      ],
      "metadata": {
        "colab": {
          "base_uri": "https://localhost:8080/"
        },
        "id": "DltFR8_R8knr",
        "outputId": "b32afdea-2e82-480a-d452-74aed7c274bc"
      },
      "execution_count": 56,
      "outputs": [
        {
          "output_type": "execute_result",
          "data": {
            "text/plain": [
              "tensor([1.2091, 0.2429, 2.7144, 0.1128, 0.2558, 0.0573, 0.2809, 0.4439, 1.9288,\n",
              "        0.9987], dtype=torch.float64)"
            ]
          },
          "metadata": {},
          "execution_count": 56
        }
      ]
    },
    {
      "cell_type": "code",
      "source": [],
      "metadata": {
        "id": "9utNR4_v8mPi"
      },
      "execution_count": null,
      "outputs": []
    }
  ]
}