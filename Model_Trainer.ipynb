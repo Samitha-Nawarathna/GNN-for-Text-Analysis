{
  "nbformat": 4,
  "nbformat_minor": 0,
  "metadata": {
    "colab": {
      "provenance": [],
      "authorship_tag": "ABX9TyNl9948ABxZTljLjPKGxqoE",
      "include_colab_link": true
    },
    "kernelspec": {
      "name": "python3",
      "display_name": "Python 3"
    },
    "language_info": {
      "name": "python"
    }
  },
  "cells": [
    {
      "cell_type": "markdown",
      "metadata": {
        "id": "view-in-github",
        "colab_type": "text"
      },
      "source": [
        "<a href=\"https://colab.research.google.com/github/Samitha-Nawarathna/GNN-for-Text-Analysis/blob/main/Model_Trainer.ipynb\" target=\"_parent\"><img src=\"https://colab.research.google.com/assets/colab-badge.svg\" alt=\"Open In Colab\"/></a>"
      ]
    },
    {
      "cell_type": "code",
      "source": [
        "from google.colab import drive\n",
        "drive.mount('/content/drive')"
      ],
      "metadata": {
        "colab": {
          "base_uri": "https://localhost:8080/"
        },
        "id": "7G3TYiFNCYtS",
        "outputId": "ddea2398-e845-4455-f0ff-5f23a1684f4b"
      },
      "execution_count": 1,
      "outputs": [
        {
          "output_type": "stream",
          "name": "stdout",
          "text": [
            "Mounted at /content/drive\n"
          ]
        }
      ]
    },
    {
      "cell_type": "code",
      "source": [
        "!pip install torch_geometric"
      ],
      "metadata": {
        "colab": {
          "base_uri": "https://localhost:8080/"
        },
        "id": "Ef0M9PKPDLHY",
        "outputId": "bc6f54b9-89c5-408e-d061-5a73fb412c96"
      },
      "execution_count": 2,
      "outputs": [
        {
          "output_type": "stream",
          "name": "stdout",
          "text": [
            "Collecting torch_geometric\n",
            "  Downloading torch_geometric-2.3.1.tar.gz (661 kB)\n",
            "\u001b[2K     \u001b[90m━━━━━━━━━━━━━━━━━━━━━━━━━━━━━━━━━━━━━━━\u001b[0m \u001b[32m661.6/661.6 kB\u001b[0m \u001b[31m8.0 MB/s\u001b[0m eta \u001b[36m0:00:00\u001b[0m\n",
            "\u001b[?25h  Installing build dependencies ... \u001b[?25l\u001b[?25hdone\n",
            "  Getting requirements to build wheel ... \u001b[?25l\u001b[?25hdone\n",
            "  Preparing metadata (pyproject.toml) ... \u001b[?25l\u001b[?25hdone\n",
            "Requirement already satisfied: tqdm in /usr/local/lib/python3.10/dist-packages (from torch_geometric) (4.66.1)\n",
            "Requirement already satisfied: numpy in /usr/local/lib/python3.10/dist-packages (from torch_geometric) (1.23.5)\n",
            "Requirement already satisfied: scipy in /usr/local/lib/python3.10/dist-packages (from torch_geometric) (1.11.3)\n",
            "Requirement already satisfied: jinja2 in /usr/local/lib/python3.10/dist-packages (from torch_geometric) (3.1.2)\n",
            "Requirement already satisfied: requests in /usr/local/lib/python3.10/dist-packages (from torch_geometric) (2.31.0)\n",
            "Requirement already satisfied: pyparsing in /usr/local/lib/python3.10/dist-packages (from torch_geometric) (3.1.1)\n",
            "Requirement already satisfied: scikit-learn in /usr/local/lib/python3.10/dist-packages (from torch_geometric) (1.2.2)\n",
            "Requirement already satisfied: psutil>=5.8.0 in /usr/local/lib/python3.10/dist-packages (from torch_geometric) (5.9.5)\n",
            "Requirement already satisfied: MarkupSafe>=2.0 in /usr/local/lib/python3.10/dist-packages (from jinja2->torch_geometric) (2.1.3)\n",
            "Requirement already satisfied: charset-normalizer<4,>=2 in /usr/local/lib/python3.10/dist-packages (from requests->torch_geometric) (3.3.0)\n",
            "Requirement already satisfied: idna<4,>=2.5 in /usr/local/lib/python3.10/dist-packages (from requests->torch_geometric) (3.4)\n",
            "Requirement already satisfied: urllib3<3,>=1.21.1 in /usr/local/lib/python3.10/dist-packages (from requests->torch_geometric) (2.0.6)\n",
            "Requirement already satisfied: certifi>=2017.4.17 in /usr/local/lib/python3.10/dist-packages (from requests->torch_geometric) (2023.7.22)\n",
            "Requirement already satisfied: joblib>=1.1.1 in /usr/local/lib/python3.10/dist-packages (from scikit-learn->torch_geometric) (1.3.2)\n",
            "Requirement already satisfied: threadpoolctl>=2.0.0 in /usr/local/lib/python3.10/dist-packages (from scikit-learn->torch_geometric) (3.2.0)\n",
            "Building wheels for collected packages: torch_geometric\n",
            "  Building wheel for torch_geometric (pyproject.toml) ... \u001b[?25l\u001b[?25hdone\n",
            "  Created wheel for torch_geometric: filename=torch_geometric-2.3.1-py3-none-any.whl size=910454 sha256=2c4ccf3fb07c213c1ecd065161f4b81fee50d915d45dcd57a586f88da4f7524f\n",
            "  Stored in directory: /root/.cache/pip/wheels/ac/dc/30/e2874821ff308ee67dcd7a66dbde912411e19e35a1addda028\n",
            "Successfully built torch_geometric\n",
            "Installing collected packages: torch_geometric\n",
            "Successfully installed torch_geometric-2.3.1\n"
          ]
        }
      ]
    },
    {
      "cell_type": "code",
      "execution_count": 3,
      "metadata": {
        "id": "VpOuL2LHCNYm"
      },
      "outputs": [],
      "source": [
        "data_path = \"/content/drive/MyDrive/Datasets/bbc-full-text-document-classification/processed/\""
      ]
    },
    {
      "cell_type": "code",
      "source": [
        "import torch\n",
        "import torch_geometric\n",
        "import torch.nn as nn\n",
        "import torch_geometric.nn as gnn\n",
        "from torch_geometric.nn import aggr\n",
        "from torch_geometric.nn import MessagePassing\n",
        "from torch.utils.data import Dataset\n",
        "import glob"
      ],
      "metadata": {
        "id": "JdIclD5tC7AR"
      },
      "execution_count": 4,
      "outputs": []
    },
    {
      "cell_type": "code",
      "source": [
        "class Graph_Dataset(Dataset):\n",
        "  def __init__(self,path):\n",
        "    super().__init__()\n",
        "    self.path = path\n",
        "    self.path_list = self.getPaths()\n",
        "\n",
        "  def getPaths(self):\n",
        "    return glob.glob(self.path+'*.pt')\n",
        "\n",
        "  def __len__(self):\n",
        "    len(self.path_list)\n",
        "\n",
        "  def __getitem__(self,idx):\n",
        "    print(idx)\n",
        "    if type(idx) == slice:\n",
        "      graphs = []\n",
        "      start ,step, stop = idx.start, idx.step, idx.stop\n",
        "      if start == None:\n",
        "        start =0\n",
        "      if stop == None:\n",
        "        stop = len(self.path_list)-1\n",
        "      if step == None:\n",
        "        step =1\n",
        "      print(type(stop))\n",
        "      for item in range(start, stop, step):\n",
        "        graphs.append(torch.load(self.path_list[item]))\n",
        "      return graphs\n",
        "    return torch.load(self.path_list[idx])"
      ],
      "metadata": {
        "id": "4Jnu6kNwC8i_"
      },
      "execution_count": 5,
      "outputs": []
    },
    {
      "cell_type": "code",
      "source": [
        "dataset = Graph_Dataset(data_path)"
      ],
      "metadata": {
        "id": "l6O3AdusDEUY"
      },
      "execution_count": 6,
      "outputs": []
    },
    {
      "cell_type": "code",
      "source": [
        "class MLP(nn.Module):\n",
        "  def __init__(self,input_size, output_size):\n",
        "    super().__init__()\n",
        "    self.p1 = nn.Linear(input_size, 100)\n",
        "    self.relu = nn.ReLU()\n",
        "    self.p2 = nn.Linear(100,50)\n",
        "    self.p3 = nn.Linear(50,output_size)\n",
        "\n",
        "  def forward(self,x):\n",
        "    x = self.p1(x)\n",
        "    x = self.relu(x)\n",
        "    x = self.p2(x)\n",
        "    x = self.relu(x)\n",
        "    x = self.p3(x)\n",
        "    return x\n",
        "\n",
        "class GraphModel(nn.Module):\n",
        "  def __init__(self,input_size, output_size):\n",
        "    super().__init__()\n",
        "    self.gconv1 = gnn.conv.GatedGraphConv(out_channels=50, num_layers=5)\n",
        "    self.f1 = MLP(input_size,output_size)\n",
        "    self.f2 = MLP(input_size,output_size)\n",
        "    self.sigmoid = nn.Sigmoid()\n",
        "    self.tanh = nn.Tanh()\n",
        "\n",
        "  def forward(self,x,edge_index,edge_attr):\n",
        "    x = self.gconv1(x, edge_index, edge_weight = edge_attr)\n",
        "    x1 = self.f1(x)\n",
        "    x2 = self.f2(x)\n",
        "    x = x1*x2\n",
        "    xg = (1/x.shape[0])*torch.sum(x,dim=0) #+ torch.max(x, dim=0).type(torch.tensor)\n",
        "    return xg\n",
        "    #x = self.attention(x)\n",
        ""
      ],
      "metadata": {
        "id": "1T6sCtyeIxcy"
      },
      "execution_count": 11,
      "outputs": []
    },
    {
      "cell_type": "code",
      "source": [
        "def extractGraph(graph):\n",
        "   x = graph.x.type(torch.float)\n",
        "   edge_index = graph.edge_index.type(torch.int64)\n",
        "   edge_attr = graph.edge_attr.type(torch.float)\n",
        "   return x, edge_index, edge_attr\n",
        "def defineModel():\n",
        "  model = GraphModel()"
      ],
      "metadata": {
        "id": "Cf25w1TCi5EC"
      },
      "execution_count": 18,
      "outputs": []
    },
    {
      "cell_type": "code",
      "source": [
        "def getPrediction(graph, model, output_size):\n",
        "  x, edge_index, edge_attr = extractGraph(graph)\n",
        "  model(x, edge_index, edge_attr)"
      ],
      "metadata": {
        "id": "Nm8ecLSSjIwQ"
      },
      "execution_count": null,
      "outputs": []
    },
    {
      "cell_type": "code",
      "source": [
        "model = GraphModel()\n",
        "graph = dataset[5]"
      ],
      "metadata": {
        "colab": {
          "base_uri": "https://localhost:8080/"
        },
        "id": "hnPEu3Gqd9EF",
        "outputId": "b60a12ca-0b04-4b67-eb43-2fd9160c3d90"
      },
      "execution_count": 13,
      "outputs": [
        {
          "output_type": "stream",
          "name": "stdout",
          "text": [
            "5\n"
          ]
        }
      ]
    },
    {
      "cell_type": "code",
      "source": [
        "class a():\n",
        "  p = 1\n",
        "  q = 2"
      ],
      "metadata": {
        "colab": {
          "base_uri": "https://localhost:8080/"
        },
        "id": "pRB9ns4NaCSP",
        "outputId": "71e72d4a-9c6f-4257-c387-d54dc0e262c9"
      },
      "execution_count": 25,
      "outputs": [
        {
          "output_type": "stream",
          "name": "stdout",
          "text": [
            "5\n"
          ]
        }
      ]
    },
    {
      "cell_type": "code",
      "source": [
        "a = a()\n",
        "a.r"
      ],
      "metadata": {
        "colab": {
          "base_uri": "https://localhost:8080/",
          "height": 194
        },
        "id": "YjqOalGviGyn",
        "outputId": "6e08d986-6126-4536-ee31-e7e7ed2c4453"
      },
      "execution_count": 17,
      "outputs": [
        {
          "output_type": "error",
          "ename": "NameError",
          "evalue": "ignored",
          "traceback": [
            "\u001b[0;31m---------------------------------------------------------------------------\u001b[0m",
            "\u001b[0;31mNameError\u001b[0m                                 Traceback (most recent call last)",
            "\u001b[0;32m<ipython-input-17-4f7f0073dc17>\u001b[0m in \u001b[0;36m<cell line: 1>\u001b[0;34m()\u001b[0m\n\u001b[0;32m----> 1\u001b[0;31m \u001b[0ma\u001b[0m \u001b[0;34m=\u001b[0m \u001b[0ma\u001b[0m\u001b[0;34m(\u001b[0m\u001b[0;34m)\u001b[0m\u001b[0;34m\u001b[0m\u001b[0;34m\u001b[0m\u001b[0m\n\u001b[0m\u001b[1;32m      2\u001b[0m \u001b[0ma\u001b[0m\u001b[0;34m.\u001b[0m\u001b[0mr\u001b[0m\u001b[0;34m\u001b[0m\u001b[0;34m\u001b[0m\u001b[0m\n",
            "\u001b[0;31mNameError\u001b[0m: name 'a' is not defined"
          ]
        }
      ]
    },
    {
      "cell_type": "code",
      "source": [
        "x = model(graph)"
      ],
      "metadata": {
        "id": "kofeHnNQeCKN"
      },
      "execution_count": 14,
      "outputs": []
    },
    {
      "cell_type": "code",
      "source": [
        "len(x)"
      ],
      "metadata": {
        "colab": {
          "base_uri": "https://localhost:8080/"
        },
        "id": "C2uU33BPvRKY",
        "outputId": "f4d6d1b9-658e-4f1c-8a94-f462e619e551"
      },
      "execution_count": 16,
      "outputs": [
        {
          "output_type": "execute_result",
          "data": {
            "text/plain": [
              "25"
            ]
          },
          "metadata": {},
          "execution_count": 16
        }
      ]
    },
    {
      "cell_type": "code",
      "source": [
        "x = graph.x.type(torch.float)\n",
        "edge_index = graph.edge_index.type(torch.int64)\n",
        "edge_attr = graph.edge_attr.type(torch.float)\n",
        "Conv1 = gnn.conv.GatedGraphConv(out_channels=50, num_layers=5)\n",
        "Conv1(x, edge_index, edge_weight = edge_attr)"
      ],
      "metadata": {
        "colab": {
          "base_uri": "https://localhost:8080/"
        },
        "id": "x1DBax0MZ4LM",
        "outputId": "72bc5a14-796a-4fd3-a513-3b2bac68cdb7"
      },
      "execution_count": 26,
      "outputs": [
        {
          "output_type": "execute_result",
          "data": {
            "text/plain": [
              "tensor([[ 0.1061, -0.0944,  0.0388,  ...,  0.0833, -0.0373,  0.0507],\n",
              "        [ 0.1462, -0.0857,  0.0540,  ...,  0.1088, -0.0316,  0.0025],\n",
              "        [ 0.1264, -0.0466,  0.0621,  ...,  0.1802, -0.0798, -0.0228],\n",
              "        ...,\n",
              "        [ 0.1888, -0.0837, -0.0032,  ...,  0.1391, -0.0676, -0.0182],\n",
              "        [ 0.1348, -0.0281, -0.0342,  ...,  0.1084, -0.0589, -0.0190],\n",
              "        [ 0.2369, -0.0615, -0.0075,  ...,  0.0764, -0.1407, -0.1433]],\n",
              "       grad_fn=<AddBackward0>)"
            ]
          },
          "metadata": {},
          "execution_count": 26
        }
      ]
    },
    {
      "cell_type": "code",
      "source": [],
      "metadata": {
        "id": "3inzlZdtaYGZ"
      },
      "execution_count": null,
      "outputs": []
    }
  ]
}