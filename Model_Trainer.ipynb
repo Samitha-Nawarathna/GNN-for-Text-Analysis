{
  "nbformat": 4,
  "nbformat_minor": 0,
  "metadata": {
    "colab": {
      "provenance": [],
      "gpuType": "T4",
      "authorship_tag": "ABX9TyNwfMJHCNG9ATdXs2bSWhkF",
      "include_colab_link": true
    },
    "kernelspec": {
      "name": "python3",
      "display_name": "Python 3"
    },
    "language_info": {
      "name": "python"
    },
    "accelerator": "GPU"
  },
  "cells": [
    {
      "cell_type": "markdown",
      "metadata": {
        "id": "view-in-github",
        "colab_type": "text"
      },
      "source": [
        "<a href=\"https://colab.research.google.com/github/Samitha-Nawarathna/GNN-for-Text-Analysis/blob/main/Model_Trainer.ipynb\" target=\"_parent\"><img src=\"https://colab.research.google.com/assets/colab-badge.svg\" alt=\"Open In Colab\"/></a>"
      ]
    },
    {
      "cell_type": "code",
      "source": [
        "from google.colab import drive\n",
        "drive.mount('/content/drive')"
      ],
      "metadata": {
        "colab": {
          "base_uri": "https://localhost:8080/"
        },
        "id": "7G3TYiFNCYtS",
        "outputId": "bc490b20-1223-48fc-c8ae-264a441f3d1e"
      },
      "execution_count": 1,
      "outputs": [
        {
          "output_type": "stream",
          "name": "stdout",
          "text": [
            "Mounted at /content/drive\n"
          ]
        }
      ]
    },
    {
      "cell_type": "code",
      "source": [
        "!pip install torch_geometric"
      ],
      "metadata": {
        "colab": {
          "base_uri": "https://localhost:8080/"
        },
        "id": "Ef0M9PKPDLHY",
        "outputId": "d745864b-d8f2-4cd8-8263-533741374221"
      },
      "execution_count": 2,
      "outputs": [
        {
          "output_type": "stream",
          "name": "stdout",
          "text": [
            "Collecting torch_geometric\n",
            "  Downloading torch_geometric-2.4.0-py3-none-any.whl (1.0 MB)\n",
            "\u001b[2K     \u001b[90m━━━━━━━━━━━━━━━━━━━━━━━━━━━━━━━━━━━━━━━━\u001b[0m \u001b[32m1.0/1.0 MB\u001b[0m \u001b[31m12.2 MB/s\u001b[0m eta \u001b[36m0:00:00\u001b[0m\n",
            "\u001b[?25hRequirement already satisfied: tqdm in /usr/local/lib/python3.10/dist-packages (from torch_geometric) (4.66.1)\n",
            "Requirement already satisfied: numpy in /usr/local/lib/python3.10/dist-packages (from torch_geometric) (1.23.5)\n",
            "Requirement already satisfied: scipy in /usr/local/lib/python3.10/dist-packages (from torch_geometric) (1.11.3)\n",
            "Requirement already satisfied: jinja2 in /usr/local/lib/python3.10/dist-packages (from torch_geometric) (3.1.2)\n",
            "Requirement already satisfied: requests in /usr/local/lib/python3.10/dist-packages (from torch_geometric) (2.31.0)\n",
            "Requirement already satisfied: pyparsing in /usr/local/lib/python3.10/dist-packages (from torch_geometric) (3.1.1)\n",
            "Requirement already satisfied: scikit-learn in /usr/local/lib/python3.10/dist-packages (from torch_geometric) (1.2.2)\n",
            "Requirement already satisfied: psutil>=5.8.0 in /usr/local/lib/python3.10/dist-packages (from torch_geometric) (5.9.5)\n",
            "Requirement already satisfied: MarkupSafe>=2.0 in /usr/local/lib/python3.10/dist-packages (from jinja2->torch_geometric) (2.1.3)\n",
            "Requirement already satisfied: charset-normalizer<4,>=2 in /usr/local/lib/python3.10/dist-packages (from requests->torch_geometric) (3.3.0)\n",
            "Requirement already satisfied: idna<4,>=2.5 in /usr/local/lib/python3.10/dist-packages (from requests->torch_geometric) (3.4)\n",
            "Requirement already satisfied: urllib3<3,>=1.21.1 in /usr/local/lib/python3.10/dist-packages (from requests->torch_geometric) (2.0.6)\n",
            "Requirement already satisfied: certifi>=2017.4.17 in /usr/local/lib/python3.10/dist-packages (from requests->torch_geometric) (2023.7.22)\n",
            "Requirement already satisfied: joblib>=1.1.1 in /usr/local/lib/python3.10/dist-packages (from scikit-learn->torch_geometric) (1.3.2)\n",
            "Requirement already satisfied: threadpoolctl>=2.0.0 in /usr/local/lib/python3.10/dist-packages (from scikit-learn->torch_geometric) (3.2.0)\n",
            "Installing collected packages: torch_geometric\n",
            "Successfully installed torch_geometric-2.4.0\n"
          ]
        }
      ]
    },
    {
      "cell_type": "code",
      "execution_count": 3,
      "metadata": {
        "id": "VpOuL2LHCNYm"
      },
      "outputs": [],
      "source": [
        "data_path = \"/content/drive/MyDrive/Datasets/bbc-full-text-document-classification/processed/\""
      ]
    },
    {
      "cell_type": "code",
      "source": [
        "import torch\n",
        "import torch_geometric\n",
        "import torch.nn as nn\n",
        "import torch_geometric.nn as gnn\n",
        "from torch_geometric.nn import aggr\n",
        "from torch_geometric.nn import MessagePassing\n",
        "from torch.utils.data import Dataset, random_split\n",
        "from torch.optim import Adam\n",
        "from torch.optim.lr_scheduler import StepLR\n",
        "import glob\n",
        "import numpy as np"
      ],
      "metadata": {
        "id": "JdIclD5tC7AR"
      },
      "execution_count": 4,
      "outputs": []
    },
    {
      "cell_type": "code",
      "source": [
        "INPUT_SIZE = 50\n",
        "OUTPUT_SIZE = 5\n",
        "EPOCHS = 5"
      ],
      "metadata": {
        "id": "sDhf9Uej0eQx"
      },
      "execution_count": 23,
      "outputs": []
    },
    {
      "cell_type": "code",
      "source": [
        "if torch.cuda.is_available():\n",
        "  device = 'cuda'\n",
        "else:\n",
        "  device = 'cpu'"
      ],
      "metadata": {
        "id": "N2NAED0E5ukK"
      },
      "execution_count": 6,
      "outputs": []
    },
    {
      "cell_type": "code",
      "source": [
        "device"
      ],
      "metadata": {
        "colab": {
          "base_uri": "https://localhost:8080/",
          "height": 35
        },
        "id": "Au-tmf186jZp",
        "outputId": "3fc7a07e-1549-401b-e31f-1b9bdba6e1e4"
      },
      "execution_count": 7,
      "outputs": [
        {
          "output_type": "execute_result",
          "data": {
            "text/plain": [
              "'cuda'"
            ],
            "application/vnd.google.colaboratory.intrinsic+json": {
              "type": "string"
            }
          },
          "metadata": {},
          "execution_count": 7
        }
      ]
    },
    {
      "cell_type": "code",
      "source": [
        "class Graph_Dataset(Dataset):\n",
        "  def __init__(self,path):\n",
        "    super().__init__()\n",
        "    self.path = path\n",
        "    self.path_list = self.getPaths()\n",
        "\n",
        "  def getPaths(self):\n",
        "    return glob.glob(self.path+'/*/*.pt')\n",
        "\n",
        "  def __len__(self):\n",
        "    return len(self.path_list)\n",
        "\n",
        "  def __getitem__(self,idx):\n",
        "    #print(idx)\n",
        "    if type(idx) == slice:\n",
        "      graphs = []\n",
        "      start ,step, stop = idx.start, idx.step, idx.stop\n",
        "      if start == None:\n",
        "        start =0\n",
        "      if stop == None:\n",
        "        stop = len(self.path_list)-1\n",
        "      if step == None:\n",
        "        step =1\n",
        "      #print(type(stop))\n",
        "      for item in range(start, stop, step):\n",
        "        graphs.append(torch.load(self.path_list[item]))\n",
        "      return graphs\n",
        "    return torch.load(self.path_list[idx])"
      ],
      "metadata": {
        "id": "4Jnu6kNwC8i_"
      },
      "execution_count": 8,
      "outputs": []
    },
    {
      "cell_type": "code",
      "source": [
        "dataset = Graph_Dataset(data_path)"
      ],
      "metadata": {
        "id": "l6O3AdusDEUY"
      },
      "execution_count": 9,
      "outputs": []
    },
    {
      "cell_type": "code",
      "source": [
        "train_size = int(0.8*len(dataset))\n",
        "test_size = int(0.1*len(dataset))\n",
        "val_size = len(dataset) - train_size - test_size\n",
        "train_set, test_set, val_set = random_split(dataset, [train_size, test_size, val_size])"
      ],
      "metadata": {
        "id": "AMCDDkaj6nQw"
      },
      "execution_count": 10,
      "outputs": []
    },
    {
      "cell_type": "code",
      "source": [
        "class MLP(nn.Module):\n",
        "  def __init__(self,input_size, output_size):\n",
        "    super().__init__()\n",
        "    self.p1 = nn.Linear(input_size, 100)\n",
        "    self.relu = nn.ReLU()\n",
        "    self.p2 = nn.Linear(100,50)\n",
        "    self.p3 = nn.Linear(50,output_size)\n",
        "\n",
        "  def forward(self,x):\n",
        "    x = self.p1(x)\n",
        "    x = self.relu(x)\n",
        "    x = self.p2(x)\n",
        "    x = self.relu(x)\n",
        "    x = self.p3(x)\n",
        "    return x\n",
        "\n",
        "class GraphModel(nn.Module):\n",
        "  def __init__(self,input_size, output_size):\n",
        "    super().__init__()\n",
        "    self.gconv1 = gnn.conv.GatedGraphConv(out_channels=50, num_layers=10)\n",
        "    self.f1 = MLP(input_size,output_size)\n",
        "    self.f2 = MLP(input_size,output_size)\n",
        "    self.sigmoid = nn.Sigmoid()\n",
        "    self.tanh = nn.Tanh()\n",
        "\n",
        "  def forward(self,x,edge_index,edge_attr):\n",
        "    x = self.gconv1(x, edge_index, edge_weight = edge_attr)\n",
        "    #print(x)\n",
        "    x1 = self.f1(x)\n",
        "    #print(x)\n",
        "    x2 = self.f2(x)\n",
        "    #print(x)\n",
        "    x = x1*x2\n",
        "    #print(x)\n",
        "    xg = (1/x.shape[0])*torch.sum(x,dim=0) + torch.max(x, dim=0).values\n",
        "    #print(x)\n",
        "    return xg\n",
        "    #x = self.attention(x)\n"
      ],
      "metadata": {
        "id": "1T6sCtyeIxcy"
      },
      "execution_count": 13,
      "outputs": []
    },
    {
      "cell_type": "code",
      "source": [
        "model = GraphModel(INPUT_SIZE, OUTPUT_SIZE).to(device)"
      ],
      "metadata": {
        "id": "3iuvCiaR0yZb"
      },
      "execution_count": 14,
      "outputs": []
    },
    {
      "cell_type": "code",
      "source": [
        "def extractGraph(graph):\n",
        "   x = graph.x.type(torch.float)\n",
        "   edge_index = graph.edge_index.type(torch.int64)\n",
        "   edge_attr = graph.edge_attr.type(torch.float)\n",
        "   return x, edge_index, edge_attr"
      ],
      "metadata": {
        "id": "Cf25w1TCi5EC"
      },
      "execution_count": 15,
      "outputs": []
    },
    {
      "cell_type": "code",
      "source": [
        "def getPrediction(graph, model):\n",
        "  x, edge_index, edge_attr = extractGraph(graph)\n",
        "  return model(x, edge_index, edge_attr)"
      ],
      "metadata": {
        "id": "Nm8ecLSSjIwQ"
      },
      "execution_count": 16,
      "outputs": []
    },
    {
      "cell_type": "code",
      "source": [
        "graph = dataset[5]"
      ],
      "metadata": {
        "id": "hnPEu3Gqd9EF"
      },
      "execution_count": 17,
      "outputs": []
    },
    {
      "cell_type": "code",
      "source": [
        "error = nn.CrossEntropyLoss()\n",
        "lr = 0.001\n",
        "optimizer = Adam(model.parameters(),lr=lr,betas=[0.99,0.95])\n",
        "scheduler = StepLR(optimizer, step_size=500, gamma=0.5)"
      ],
      "metadata": {
        "id": "Oq41p0yl2N9s"
      },
      "execution_count": 18,
      "outputs": []
    },
    {
      "cell_type": "code",
      "source": [
        "def getValErrors(graph, model=model):\n",
        "  graph.to(device)\n",
        "  output = getPrediction(graph,model)\n",
        "  return error(output, graph.y)\n",
        "\n"
      ],
      "metadata": {
        "id": "X24Mfm0r5N3i"
      },
      "execution_count": 19,
      "outputs": []
    },
    {
      "cell_type": "code",
      "source": [
        "val_split,_ = random_split(val_set, [50, len(val_set) - 50])"
      ],
      "metadata": {
        "id": "Uwii6D38TtZ2"
      },
      "execution_count": 20,
      "outputs": []
    },
    {
      "cell_type": "code",
      "source": [
        "best_loss = float(\"inf\")"
      ],
      "metadata": {
        "id": "iI5HjQwTXAX_"
      },
      "execution_count": 21,
      "outputs": []
    },
    {
      "cell_type": "code",
      "source": [
        "model.load_state_dict(torch.load('/content/drive/MyDrive/Datasets/bbc-full-text-document-classification/models/cheackpoints.pt'))"
      ],
      "metadata": {
        "id": "d3gGWVcve2pb",
        "outputId": "98c2d2a1-c05f-4f11-a8f5-8407c759872e",
        "colab": {
          "base_uri": "https://localhost:8080/"
        }
      },
      "execution_count": 24,
      "outputs": [
        {
          "output_type": "execute_result",
          "data": {
            "text/plain": [
              "<All keys matched successfully>"
            ]
          },
          "metadata": {},
          "execution_count": 24
        }
      ]
    },
    {
      "cell_type": "code",
      "source": [
        "for epoch in range(EPOCHS):\n",
        "  for i, graph in enumerate(train_set):\n",
        "    graph.to(device)\n",
        "    optimizer.zero_grad()\n",
        "    output = getPrediction(graph, model)\n",
        "    y = graph.y.to(device)\n",
        "    loss = error(output, y)\n",
        "    loss.backward()\n",
        "    optimizer.step()\n",
        "    scheduler.step()\n",
        "    if i%25==0 and i != 0:\n",
        "      val_loss = 0\n",
        "      for item in val_split:\n",
        "        val_loss += getValErrors(item)\n",
        "      val_loss /= len(val_split)\n",
        "      if val_loss < best_loss:\n",
        "        checkpoint_saver = torch.save(model.state_dict(), '/content/drive/MyDrive/Datasets/bbc-full-text-document-classification/models/cheackpoints.pt')\n",
        "        best_loss =val_loss\n",
        "      print(epoch,i,val_loss)\n",
        "\n"
      ],
      "metadata": {
        "id": "unx9Kf6n3i-V",
        "colab": {
          "base_uri": "https://localhost:8080/",
          "height": 1000
        },
        "outputId": "18ecef11-650b-45f2-fbba-5ee10ee38762"
      },
      "execution_count": 25,
      "outputs": [
        {
          "output_type": "stream",
          "name": "stdout",
          "text": [
            "0 25 tensor(0.4977, device='cuda:0', grad_fn=<DivBackward0>)\n",
            "0 50 tensor(0.4973, device='cuda:0', grad_fn=<DivBackward0>)\n",
            "0 75 tensor(0.4977, device='cuda:0', grad_fn=<DivBackward0>)\n",
            "0 100 tensor(0.4999, device='cuda:0', grad_fn=<DivBackward0>)\n",
            "0 125 tensor(0.5027, device='cuda:0', grad_fn=<DivBackward0>)\n",
            "0 150 tensor(0.5077, device='cuda:0', grad_fn=<DivBackward0>)\n",
            "0 175 tensor(0.5191, device='cuda:0', grad_fn=<DivBackward0>)\n",
            "0 200 tensor(0.5291, device='cuda:0', grad_fn=<DivBackward0>)\n",
            "0 225 tensor(0.5398, device='cuda:0', grad_fn=<DivBackward0>)\n",
            "0 250 tensor(0.5503, device='cuda:0', grad_fn=<DivBackward0>)\n",
            "0 275 tensor(0.5715, device='cuda:0', grad_fn=<DivBackward0>)\n",
            "0 300 tensor(0.6036, device='cuda:0', grad_fn=<DivBackward0>)\n",
            "0 325 tensor(0.6378, device='cuda:0', grad_fn=<DivBackward0>)\n",
            "0 350 tensor(0.6558, device='cuda:0', grad_fn=<DivBackward0>)\n",
            "0 375 tensor(0.6578, device='cuda:0', grad_fn=<DivBackward0>)\n",
            "0 400 tensor(0.6591, device='cuda:0', grad_fn=<DivBackward0>)\n",
            "0 425 tensor(0.6618, device='cuda:0', grad_fn=<DivBackward0>)\n",
            "0 450 tensor(0.6658, device='cuda:0', grad_fn=<DivBackward0>)\n",
            "0 475 tensor(0.6676, device='cuda:0', grad_fn=<DivBackward0>)\n",
            "0 500 tensor(0.6693, device='cuda:0', grad_fn=<DivBackward0>)\n",
            "0 525 tensor(0.6713, device='cuda:0', grad_fn=<DivBackward0>)\n",
            "0 550 tensor(0.6732, device='cuda:0', grad_fn=<DivBackward0>)\n",
            "0 575 tensor(0.6747, device='cuda:0', grad_fn=<DivBackward0>)\n",
            "0 600 tensor(0.6767, device='cuda:0', grad_fn=<DivBackward0>)\n",
            "0 625 tensor(0.6803, device='cuda:0', grad_fn=<DivBackward0>)\n",
            "0 650 tensor(0.6846, device='cuda:0', grad_fn=<DivBackward0>)\n",
            "0 675 tensor(0.6901, device='cuda:0', grad_fn=<DivBackward0>)\n",
            "0 700 tensor(0.6962, device='cuda:0', grad_fn=<DivBackward0>)\n",
            "0 725 tensor(0.7035, device='cuda:0', grad_fn=<DivBackward0>)\n",
            "0 750 tensor(0.7120, device='cuda:0', grad_fn=<DivBackward0>)\n",
            "0 775 tensor(0.7242, device='cuda:0', grad_fn=<DivBackward0>)\n",
            "0 800 tensor(0.7441, device='cuda:0', grad_fn=<DivBackward0>)\n",
            "0 825 tensor(0.7433, device='cuda:0', grad_fn=<DivBackward0>)\n",
            "0 850 tensor(0.7395, device='cuda:0', grad_fn=<DivBackward0>)\n",
            "0 875 tensor(0.7329, device='cuda:0', grad_fn=<DivBackward0>)\n",
            "0 900 tensor(0.7245, device='cuda:0', grad_fn=<DivBackward0>)\n",
            "0 925 tensor(0.7174, device='cuda:0', grad_fn=<DivBackward0>)\n",
            "0 950 tensor(0.7094, device='cuda:0', grad_fn=<DivBackward0>)\n",
            "0 975 tensor(0.7058, device='cuda:0', grad_fn=<DivBackward0>)\n",
            "0 1000 tensor(0.7011, device='cuda:0', grad_fn=<DivBackward0>)\n",
            "0 1025 tensor(0.6946, device='cuda:0', grad_fn=<DivBackward0>)\n",
            "0 1050 tensor(0.6859, device='cuda:0', grad_fn=<DivBackward0>)\n",
            "0 1075 tensor(0.6763, device='cuda:0', grad_fn=<DivBackward0>)\n",
            "0 1100 tensor(0.6708, device='cuda:0', grad_fn=<DivBackward0>)\n",
            "0 1125 tensor(0.6684, device='cuda:0', grad_fn=<DivBackward0>)\n",
            "0 1150 tensor(0.6655, device='cuda:0', grad_fn=<DivBackward0>)\n",
            "0 1175 tensor(0.6654, device='cuda:0', grad_fn=<DivBackward0>)\n",
            "0 1200 tensor(0.6665, device='cuda:0', grad_fn=<DivBackward0>)\n",
            "0 1225 tensor(0.6676, device='cuda:0', grad_fn=<DivBackward0>)\n",
            "0 1250 tensor(0.6686, device='cuda:0', grad_fn=<DivBackward0>)\n",
            "0 1275 tensor(0.6692, device='cuda:0', grad_fn=<DivBackward0>)\n",
            "0 1300 tensor(0.6688, device='cuda:0', grad_fn=<DivBackward0>)\n",
            "0 1325 tensor(0.6676, device='cuda:0', grad_fn=<DivBackward0>)\n",
            "0 1350 tensor(0.6659, device='cuda:0', grad_fn=<DivBackward0>)\n",
            "0 1375 tensor(0.6635, device='cuda:0', grad_fn=<DivBackward0>)\n",
            "0 1400 tensor(0.6595, device='cuda:0', grad_fn=<DivBackward0>)\n",
            "0 1425 tensor(0.6520, device='cuda:0', grad_fn=<DivBackward0>)\n",
            "0 1450 tensor(0.6451, device='cuda:0', grad_fn=<DivBackward0>)\n",
            "0 1475 tensor(0.6410, device='cuda:0', grad_fn=<DivBackward0>)\n",
            "0 1500 tensor(0.6358, device='cuda:0', grad_fn=<DivBackward0>)\n",
            "0 1525 tensor(0.6317, device='cuda:0', grad_fn=<DivBackward0>)\n",
            "0 1550 tensor(0.6295, device='cuda:0', grad_fn=<DivBackward0>)\n",
            "0 1575 tensor(0.6293, device='cuda:0', grad_fn=<DivBackward0>)\n",
            "0 1600 tensor(0.6292, device='cuda:0', grad_fn=<DivBackward0>)\n",
            "0 1625 tensor(0.6282, device='cuda:0', grad_fn=<DivBackward0>)\n",
            "0 1650 tensor(0.6273, device='cuda:0', grad_fn=<DivBackward0>)\n",
            "0 1675 tensor(0.6259, device='cuda:0', grad_fn=<DivBackward0>)\n",
            "0 1700 tensor(0.6245, device='cuda:0', grad_fn=<DivBackward0>)\n",
            "0 1725 tensor(0.6240, device='cuda:0', grad_fn=<DivBackward0>)\n",
            "0 1750 tensor(0.6240, device='cuda:0', grad_fn=<DivBackward0>)\n",
            "0 1775 tensor(0.6247, device='cuda:0', grad_fn=<DivBackward0>)\n",
            "1 25 tensor(0.6243, device='cuda:0', grad_fn=<DivBackward0>)\n",
            "1 50 tensor(0.6228, device='cuda:0', grad_fn=<DivBackward0>)\n",
            "1 75 tensor(0.6218, device='cuda:0', grad_fn=<DivBackward0>)\n",
            "1 100 tensor(0.6205, device='cuda:0', grad_fn=<DivBackward0>)\n",
            "1 125 tensor(0.6188, device='cuda:0', grad_fn=<DivBackward0>)\n",
            "1 150 tensor(0.6165, device='cuda:0', grad_fn=<DivBackward0>)\n",
            "1 175 tensor(0.6143, device='cuda:0', grad_fn=<DivBackward0>)\n",
            "1 200 tensor(0.6133, device='cuda:0', grad_fn=<DivBackward0>)\n",
            "1 225 tensor(0.6122, device='cuda:0', grad_fn=<DivBackward0>)\n",
            "1 250 tensor(0.6110, device='cuda:0', grad_fn=<DivBackward0>)\n",
            "1 275 tensor(0.6098, device='cuda:0', grad_fn=<DivBackward0>)\n",
            "1 300 tensor(0.6086, device='cuda:0', grad_fn=<DivBackward0>)\n",
            "1 325 tensor(0.6075, device='cuda:0', grad_fn=<DivBackward0>)\n",
            "1 350 tensor(0.6067, device='cuda:0', grad_fn=<DivBackward0>)\n",
            "1 375 tensor(0.6059, device='cuda:0', grad_fn=<DivBackward0>)\n",
            "1 400 tensor(0.6054, device='cuda:0', grad_fn=<DivBackward0>)\n",
            "1 425 tensor(0.6056, device='cuda:0', grad_fn=<DivBackward0>)\n",
            "1 450 tensor(0.6057, device='cuda:0', grad_fn=<DivBackward0>)\n",
            "1 475 tensor(0.6059, device='cuda:0', grad_fn=<DivBackward0>)\n",
            "1 500 tensor(0.6063, device='cuda:0', grad_fn=<DivBackward0>)\n",
            "1 525 tensor(0.6068, device='cuda:0', grad_fn=<DivBackward0>)\n",
            "1 550 tensor(0.6073, device='cuda:0', grad_fn=<DivBackward0>)\n",
            "1 575 tensor(0.6077, device='cuda:0', grad_fn=<DivBackward0>)\n",
            "1 600 tensor(0.6081, device='cuda:0', grad_fn=<DivBackward0>)\n",
            "1 625 tensor(0.6088, device='cuda:0', grad_fn=<DivBackward0>)\n",
            "1 650 tensor(0.6097, device='cuda:0', grad_fn=<DivBackward0>)\n",
            "1 675 tensor(0.6105, device='cuda:0', grad_fn=<DivBackward0>)\n",
            "1 700 tensor(0.6110, device='cuda:0', grad_fn=<DivBackward0>)\n",
            "1 725 tensor(0.6116, device='cuda:0', grad_fn=<DivBackward0>)\n",
            "1 750 tensor(0.6123, device='cuda:0', grad_fn=<DivBackward0>)\n",
            "1 775 tensor(0.6132, device='cuda:0', grad_fn=<DivBackward0>)\n",
            "1 800 tensor(0.6143, device='cuda:0', grad_fn=<DivBackward0>)\n",
            "1 825 tensor(0.6142, device='cuda:0', grad_fn=<DivBackward0>)\n",
            "1 850 tensor(0.6141, device='cuda:0', grad_fn=<DivBackward0>)\n",
            "1 875 tensor(0.6136, device='cuda:0', grad_fn=<DivBackward0>)\n",
            "1 900 tensor(0.6128, device='cuda:0', grad_fn=<DivBackward0>)\n",
            "1 925 tensor(0.6118, device='cuda:0', grad_fn=<DivBackward0>)\n",
            "1 950 tensor(0.6105, device='cuda:0', grad_fn=<DivBackward0>)\n",
            "1 975 tensor(0.6098, device='cuda:0', grad_fn=<DivBackward0>)\n",
            "1 1000 tensor(0.6088, device='cuda:0', grad_fn=<DivBackward0>)\n",
            "1 1025 tensor(0.6076, device='cuda:0', grad_fn=<DivBackward0>)\n",
            "1 1050 tensor(0.6061, device='cuda:0', grad_fn=<DivBackward0>)\n",
            "1 1075 tensor(0.6047, device='cuda:0', grad_fn=<DivBackward0>)\n",
            "1 1100 tensor(0.6038, device='cuda:0', grad_fn=<DivBackward0>)\n",
            "1 1125 tensor(0.6033, device='cuda:0', grad_fn=<DivBackward0>)\n",
            "1 1150 tensor(0.6028, device='cuda:0', grad_fn=<DivBackward0>)\n",
            "1 1175 tensor(0.6028, device='cuda:0', grad_fn=<DivBackward0>)\n",
            "1 1200 tensor(0.6029, device='cuda:0', grad_fn=<DivBackward0>)\n",
            "1 1225 tensor(0.6030, device='cuda:0', grad_fn=<DivBackward0>)\n",
            "1 1250 tensor(0.6031, device='cuda:0', grad_fn=<DivBackward0>)\n",
            "1 1275 tensor(0.6032, device='cuda:0', grad_fn=<DivBackward0>)\n",
            "1 1300 tensor(0.6033, device='cuda:0', grad_fn=<DivBackward0>)\n",
            "1 1325 tensor(0.6034, device='cuda:0', grad_fn=<DivBackward0>)\n",
            "1 1350 tensor(0.6033, device='cuda:0', grad_fn=<DivBackward0>)\n",
            "1 1375 tensor(0.6033, device='cuda:0', grad_fn=<DivBackward0>)\n",
            "1 1400 tensor(0.6032, device='cuda:0', grad_fn=<DivBackward0>)\n",
            "1 1425 tensor(0.6031, device='cuda:0', grad_fn=<DivBackward0>)\n",
            "1 1450 tensor(0.6030, device='cuda:0', grad_fn=<DivBackward0>)\n",
            "1 1475 tensor(0.6029, device='cuda:0', grad_fn=<DivBackward0>)\n",
            "1 1500 tensor(0.6029, device='cuda:0', grad_fn=<DivBackward0>)\n",
            "1 1525 tensor(0.6028, device='cuda:0', grad_fn=<DivBackward0>)\n",
            "1 1550 tensor(0.6026, device='cuda:0', grad_fn=<DivBackward0>)\n",
            "1 1575 tensor(0.6027, device='cuda:0', grad_fn=<DivBackward0>)\n",
            "1 1600 tensor(0.6027, device='cuda:0', grad_fn=<DivBackward0>)\n",
            "1 1625 tensor(0.6026, device='cuda:0', grad_fn=<DivBackward0>)\n",
            "1 1650 tensor(0.6025, device='cuda:0', grad_fn=<DivBackward0>)\n",
            "1 1675 tensor(0.6024, device='cuda:0', grad_fn=<DivBackward0>)\n",
            "1 1700 tensor(0.6023, device='cuda:0', grad_fn=<DivBackward0>)\n",
            "1 1725 tensor(0.6022, device='cuda:0', grad_fn=<DivBackward0>)\n",
            "1 1750 tensor(0.6022, device='cuda:0', grad_fn=<DivBackward0>)\n",
            "1 1775 tensor(0.6022, device='cuda:0', grad_fn=<DivBackward0>)\n",
            "2 25 tensor(0.6022, device='cuda:0', grad_fn=<DivBackward0>)\n",
            "2 50 tensor(0.6021, device='cuda:0', grad_fn=<DivBackward0>)\n",
            "2 75 tensor(0.6021, device='cuda:0', grad_fn=<DivBackward0>)\n",
            "2 100 tensor(0.6020, device='cuda:0', grad_fn=<DivBackward0>)\n",
            "2 125 tensor(0.6019, device='cuda:0', grad_fn=<DivBackward0>)\n",
            "2 150 tensor(0.6018, device='cuda:0', grad_fn=<DivBackward0>)\n",
            "2 175 tensor(0.6017, device='cuda:0', grad_fn=<DivBackward0>)\n",
            "2 200 tensor(0.6017, device='cuda:0', grad_fn=<DivBackward0>)\n",
            "2 225 tensor(0.6017, device='cuda:0', grad_fn=<DivBackward0>)\n",
            "2 250 tensor(0.6017, device='cuda:0', grad_fn=<DivBackward0>)\n",
            "2 275 tensor(0.6017, device='cuda:0', grad_fn=<DivBackward0>)\n",
            "2 300 tensor(0.6017, device='cuda:0', grad_fn=<DivBackward0>)\n",
            "2 325 tensor(0.6017, device='cuda:0', grad_fn=<DivBackward0>)\n",
            "2 350 tensor(0.6017, device='cuda:0', grad_fn=<DivBackward0>)\n",
            "2 375 tensor(0.6017, device='cuda:0', grad_fn=<DivBackward0>)\n",
            "2 400 tensor(0.6017, device='cuda:0', grad_fn=<DivBackward0>)\n",
            "2 425 tensor(0.6017, device='cuda:0', grad_fn=<DivBackward0>)\n",
            "2 450 tensor(0.6017, device='cuda:0', grad_fn=<DivBackward0>)\n",
            "2 475 tensor(0.6017, device='cuda:0', grad_fn=<DivBackward0>)\n",
            "2 500 tensor(0.6018, device='cuda:0', grad_fn=<DivBackward0>)\n",
            "2 525 tensor(0.6018, device='cuda:0', grad_fn=<DivBackward0>)\n",
            "2 550 tensor(0.6018, device='cuda:0', grad_fn=<DivBackward0>)\n",
            "2 575 tensor(0.6019, device='cuda:0', grad_fn=<DivBackward0>)\n",
            "2 600 tensor(0.6019, device='cuda:0', grad_fn=<DivBackward0>)\n",
            "2 625 tensor(0.6019, device='cuda:0', grad_fn=<DivBackward0>)\n",
            "2 650 tensor(0.6020, device='cuda:0', grad_fn=<DivBackward0>)\n",
            "2 675 tensor(0.6020, device='cuda:0', grad_fn=<DivBackward0>)\n",
            "2 700 tensor(0.6021, device='cuda:0', grad_fn=<DivBackward0>)\n",
            "2 725 tensor(0.6021, device='cuda:0', grad_fn=<DivBackward0>)\n",
            "2 750 tensor(0.6022, device='cuda:0', grad_fn=<DivBackward0>)\n",
            "2 775 tensor(0.6022, device='cuda:0', grad_fn=<DivBackward0>)\n",
            "2 800 tensor(0.6024, device='cuda:0', grad_fn=<DivBackward0>)\n",
            "2 825 tensor(0.6024, device='cuda:0', grad_fn=<DivBackward0>)\n",
            "2 850 tensor(0.6024, device='cuda:0', grad_fn=<DivBackward0>)\n",
            "2 875 tensor(0.6023, device='cuda:0', grad_fn=<DivBackward0>)\n",
            "2 900 tensor(0.6023, device='cuda:0', grad_fn=<DivBackward0>)\n",
            "2 925 tensor(0.6023, device='cuda:0', grad_fn=<DivBackward0>)\n",
            "2 950 tensor(0.6022, device='cuda:0', grad_fn=<DivBackward0>)\n",
            "2 975 tensor(0.6022, device='cuda:0', grad_fn=<DivBackward0>)\n",
            "2 1000 tensor(0.6022, device='cuda:0', grad_fn=<DivBackward0>)\n",
            "2 1025 tensor(0.6021, device='cuda:0', grad_fn=<DivBackward0>)\n",
            "2 1050 tensor(0.6020, device='cuda:0', grad_fn=<DivBackward0>)\n",
            "2 1075 tensor(0.6020, device='cuda:0', grad_fn=<DivBackward0>)\n",
            "2 1100 tensor(0.6020, device='cuda:0', grad_fn=<DivBackward0>)\n",
            "2 1125 tensor(0.6020, device='cuda:0', grad_fn=<DivBackward0>)\n",
            "2 1150 tensor(0.6019, device='cuda:0', grad_fn=<DivBackward0>)\n",
            "2 1175 tensor(0.6019, device='cuda:0', grad_fn=<DivBackward0>)\n",
            "2 1200 tensor(0.6020, device='cuda:0', grad_fn=<DivBackward0>)\n",
            "2 1225 tensor(0.6020, device='cuda:0', grad_fn=<DivBackward0>)\n",
            "2 1250 tensor(0.6020, device='cuda:0', grad_fn=<DivBackward0>)\n",
            "2 1275 tensor(0.6020, device='cuda:0', grad_fn=<DivBackward0>)\n",
            "2 1300 tensor(0.6020, device='cuda:0', grad_fn=<DivBackward0>)\n",
            "2 1325 tensor(0.6020, device='cuda:0', grad_fn=<DivBackward0>)\n",
            "2 1350 tensor(0.6020, device='cuda:0', grad_fn=<DivBackward0>)\n",
            "2 1375 tensor(0.6020, device='cuda:0', grad_fn=<DivBackward0>)\n",
            "2 1400 tensor(0.6020, device='cuda:0', grad_fn=<DivBackward0>)\n",
            "2 1425 tensor(0.6020, device='cuda:0', grad_fn=<DivBackward0>)\n",
            "2 1450 tensor(0.6020, device='cuda:0', grad_fn=<DivBackward0>)\n",
            "2 1475 tensor(0.6019, device='cuda:0', grad_fn=<DivBackward0>)\n",
            "2 1500 tensor(0.6019, device='cuda:0', grad_fn=<DivBackward0>)\n",
            "2 1525 tensor(0.6019, device='cuda:0', grad_fn=<DivBackward0>)\n",
            "2 1550 tensor(0.6019, device='cuda:0', grad_fn=<DivBackward0>)\n",
            "2 1575 tensor(0.6019, device='cuda:0', grad_fn=<DivBackward0>)\n",
            "2 1600 tensor(0.6019, device='cuda:0', grad_fn=<DivBackward0>)\n",
            "2 1625 tensor(0.6019, device='cuda:0', grad_fn=<DivBackward0>)\n",
            "2 1650 tensor(0.6019, device='cuda:0', grad_fn=<DivBackward0>)\n",
            "2 1675 tensor(0.6019, device='cuda:0', grad_fn=<DivBackward0>)\n",
            "2 1700 tensor(0.6019, device='cuda:0', grad_fn=<DivBackward0>)\n",
            "2 1725 tensor(0.6019, device='cuda:0', grad_fn=<DivBackward0>)\n",
            "2 1750 tensor(0.6019, device='cuda:0', grad_fn=<DivBackward0>)\n",
            "2 1775 tensor(0.6019, device='cuda:0', grad_fn=<DivBackward0>)\n",
            "3 25 tensor(0.6019, device='cuda:0', grad_fn=<DivBackward0>)\n",
            "3 50 tensor(0.6019, device='cuda:0', grad_fn=<DivBackward0>)\n",
            "3 75 tensor(0.6019, device='cuda:0', grad_fn=<DivBackward0>)\n",
            "3 100 tensor(0.6019, device='cuda:0', grad_fn=<DivBackward0>)\n",
            "3 125 tensor(0.6019, device='cuda:0', grad_fn=<DivBackward0>)\n",
            "3 150 tensor(0.6019, device='cuda:0', grad_fn=<DivBackward0>)\n",
            "3 175 tensor(0.6019, device='cuda:0', grad_fn=<DivBackward0>)\n",
            "3 200 tensor(0.6019, device='cuda:0', grad_fn=<DivBackward0>)\n",
            "3 225 tensor(0.6019, device='cuda:0', grad_fn=<DivBackward0>)\n",
            "3 250 tensor(0.6019, device='cuda:0', grad_fn=<DivBackward0>)\n",
            "3 275 tensor(0.6019, device='cuda:0', grad_fn=<DivBackward0>)\n",
            "3 300 tensor(0.6019, device='cuda:0', grad_fn=<DivBackward0>)\n",
            "3 325 tensor(0.6019, device='cuda:0', grad_fn=<DivBackward0>)\n",
            "3 350 tensor(0.6019, device='cuda:0', grad_fn=<DivBackward0>)\n",
            "3 375 tensor(0.6019, device='cuda:0', grad_fn=<DivBackward0>)\n",
            "3 400 tensor(0.6019, device='cuda:0', grad_fn=<DivBackward0>)\n",
            "3 425 tensor(0.6019, device='cuda:0', grad_fn=<DivBackward0>)\n",
            "3 450 tensor(0.6019, device='cuda:0', grad_fn=<DivBackward0>)\n",
            "3 475 tensor(0.6019, device='cuda:0', grad_fn=<DivBackward0>)\n",
            "3 500 tensor(0.6019, device='cuda:0', grad_fn=<DivBackward0>)\n",
            "3 525 tensor(0.6019, device='cuda:0', grad_fn=<DivBackward0>)\n",
            "3 550 tensor(0.6019, device='cuda:0', grad_fn=<DivBackward0>)\n",
            "3 575 tensor(0.6019, device='cuda:0', grad_fn=<DivBackward0>)\n",
            "3 600 tensor(0.6019, device='cuda:0', grad_fn=<DivBackward0>)\n",
            "3 625 tensor(0.6019, device='cuda:0', grad_fn=<DivBackward0>)\n",
            "3 650 tensor(0.6019, device='cuda:0', grad_fn=<DivBackward0>)\n",
            "3 675 tensor(0.6019, device='cuda:0', grad_fn=<DivBackward0>)\n",
            "3 700 tensor(0.6019, device='cuda:0', grad_fn=<DivBackward0>)\n",
            "3 725 tensor(0.6019, device='cuda:0', grad_fn=<DivBackward0>)\n",
            "3 750 tensor(0.6019, device='cuda:0', grad_fn=<DivBackward0>)\n",
            "3 775 tensor(0.6019, device='cuda:0', grad_fn=<DivBackward0>)\n",
            "3 800 tensor(0.6019, device='cuda:0', grad_fn=<DivBackward0>)\n",
            "3 825 tensor(0.6019, device='cuda:0', grad_fn=<DivBackward0>)\n",
            "3 850 tensor(0.6019, device='cuda:0', grad_fn=<DivBackward0>)\n",
            "3 875 tensor(0.6019, device='cuda:0', grad_fn=<DivBackward0>)\n",
            "3 900 tensor(0.6019, device='cuda:0', grad_fn=<DivBackward0>)\n",
            "3 925 tensor(0.6019, device='cuda:0', grad_fn=<DivBackward0>)\n",
            "3 950 tensor(0.6019, device='cuda:0', grad_fn=<DivBackward0>)\n",
            "3 975 tensor(0.6019, device='cuda:0', grad_fn=<DivBackward0>)\n",
            "3 1000 tensor(0.6019, device='cuda:0', grad_fn=<DivBackward0>)\n",
            "3 1025 tensor(0.6019, device='cuda:0', grad_fn=<DivBackward0>)\n",
            "3 1050 tensor(0.6019, device='cuda:0', grad_fn=<DivBackward0>)\n",
            "3 1075 tensor(0.6019, device='cuda:0', grad_fn=<DivBackward0>)\n",
            "3 1100 tensor(0.6019, device='cuda:0', grad_fn=<DivBackward0>)\n",
            "3 1125 tensor(0.6019, device='cuda:0', grad_fn=<DivBackward0>)\n",
            "3 1150 tensor(0.6019, device='cuda:0', grad_fn=<DivBackward0>)\n",
            "3 1175 tensor(0.6019, device='cuda:0', grad_fn=<DivBackward0>)\n",
            "3 1200 tensor(0.6019, device='cuda:0', grad_fn=<DivBackward0>)\n",
            "3 1225 tensor(0.6019, device='cuda:0', grad_fn=<DivBackward0>)\n",
            "3 1250 tensor(0.6019, device='cuda:0', grad_fn=<DivBackward0>)\n",
            "3 1275 tensor(0.6019, device='cuda:0', grad_fn=<DivBackward0>)\n",
            "3 1300 tensor(0.6019, device='cuda:0', grad_fn=<DivBackward0>)\n",
            "3 1325 tensor(0.6019, device='cuda:0', grad_fn=<DivBackward0>)\n",
            "3 1350 tensor(0.6019, device='cuda:0', grad_fn=<DivBackward0>)\n",
            "3 1375 tensor(0.6019, device='cuda:0', grad_fn=<DivBackward0>)\n",
            "3 1400 tensor(0.6019, device='cuda:0', grad_fn=<DivBackward0>)\n",
            "3 1425 tensor(0.6019, device='cuda:0', grad_fn=<DivBackward0>)\n",
            "3 1450 tensor(0.6019, device='cuda:0', grad_fn=<DivBackward0>)\n",
            "3 1475 tensor(0.6019, device='cuda:0', grad_fn=<DivBackward0>)\n",
            "3 1500 tensor(0.6019, device='cuda:0', grad_fn=<DivBackward0>)\n",
            "3 1525 tensor(0.6019, device='cuda:0', grad_fn=<DivBackward0>)\n",
            "3 1550 tensor(0.6019, device='cuda:0', grad_fn=<DivBackward0>)\n",
            "3 1575 tensor(0.6019, device='cuda:0', grad_fn=<DivBackward0>)\n",
            "3 1600 tensor(0.6019, device='cuda:0', grad_fn=<DivBackward0>)\n",
            "3 1625 tensor(0.6019, device='cuda:0', grad_fn=<DivBackward0>)\n",
            "3 1650 tensor(0.6019, device='cuda:0', grad_fn=<DivBackward0>)\n",
            "3 1675 tensor(0.6019, device='cuda:0', grad_fn=<DivBackward0>)\n",
            "3 1700 tensor(0.6019, device='cuda:0', grad_fn=<DivBackward0>)\n",
            "3 1725 tensor(0.6019, device='cuda:0', grad_fn=<DivBackward0>)\n",
            "3 1750 tensor(0.6019, device='cuda:0', grad_fn=<DivBackward0>)\n",
            "3 1775 tensor(0.6019, device='cuda:0', grad_fn=<DivBackward0>)\n",
            "4 25 tensor(0.6019, device='cuda:0', grad_fn=<DivBackward0>)\n",
            "4 50 tensor(0.6019, device='cuda:0', grad_fn=<DivBackward0>)\n",
            "4 75 tensor(0.6019, device='cuda:0', grad_fn=<DivBackward0>)\n",
            "4 100 tensor(0.6019, device='cuda:0', grad_fn=<DivBackward0>)\n",
            "4 125 tensor(0.6019, device='cuda:0', grad_fn=<DivBackward0>)\n",
            "4 150 tensor(0.6019, device='cuda:0', grad_fn=<DivBackward0>)\n",
            "4 175 tensor(0.6019, device='cuda:0', grad_fn=<DivBackward0>)\n",
            "4 200 tensor(0.6019, device='cuda:0', grad_fn=<DivBackward0>)\n",
            "4 225 tensor(0.6019, device='cuda:0', grad_fn=<DivBackward0>)\n",
            "4 250 tensor(0.6019, device='cuda:0', grad_fn=<DivBackward0>)\n",
            "4 275 tensor(0.6019, device='cuda:0', grad_fn=<DivBackward0>)\n",
            "4 300 tensor(0.6019, device='cuda:0', grad_fn=<DivBackward0>)\n",
            "4 325 tensor(0.6019, device='cuda:0', grad_fn=<DivBackward0>)\n",
            "4 350 tensor(0.6019, device='cuda:0', grad_fn=<DivBackward0>)\n",
            "4 375 tensor(0.6019, device='cuda:0', grad_fn=<DivBackward0>)\n",
            "4 400 tensor(0.6019, device='cuda:0', grad_fn=<DivBackward0>)\n",
            "4 425 tensor(0.6019, device='cuda:0', grad_fn=<DivBackward0>)\n",
            "4 450 tensor(0.6019, device='cuda:0', grad_fn=<DivBackward0>)\n",
            "4 475 tensor(0.6019, device='cuda:0', grad_fn=<DivBackward0>)\n",
            "4 500 tensor(0.6019, device='cuda:0', grad_fn=<DivBackward0>)\n",
            "4 525 tensor(0.6019, device='cuda:0', grad_fn=<DivBackward0>)\n",
            "4 550 tensor(0.6019, device='cuda:0', grad_fn=<DivBackward0>)\n",
            "4 575 tensor(0.6019, device='cuda:0', grad_fn=<DivBackward0>)\n",
            "4 600 tensor(0.6019, device='cuda:0', grad_fn=<DivBackward0>)\n",
            "4 625 tensor(0.6019, device='cuda:0', grad_fn=<DivBackward0>)\n",
            "4 650 tensor(0.6019, device='cuda:0', grad_fn=<DivBackward0>)\n",
            "4 675 tensor(0.6019, device='cuda:0', grad_fn=<DivBackward0>)\n",
            "4 700 tensor(0.6019, device='cuda:0', grad_fn=<DivBackward0>)\n",
            "4 725 tensor(0.6019, device='cuda:0', grad_fn=<DivBackward0>)\n",
            "4 750 tensor(0.6019, device='cuda:0', grad_fn=<DivBackward0>)\n",
            "4 775 tensor(0.6019, device='cuda:0', grad_fn=<DivBackward0>)\n",
            "4 800 tensor(0.6019, device='cuda:0', grad_fn=<DivBackward0>)\n",
            "4 825 tensor(0.6019, device='cuda:0', grad_fn=<DivBackward0>)\n",
            "4 850 tensor(0.6019, device='cuda:0', grad_fn=<DivBackward0>)\n",
            "4 875 tensor(0.6019, device='cuda:0', grad_fn=<DivBackward0>)\n",
            "4 900 tensor(0.6019, device='cuda:0', grad_fn=<DivBackward0>)\n",
            "4 925 tensor(0.6019, device='cuda:0', grad_fn=<DivBackward0>)\n",
            "4 950 tensor(0.6019, device='cuda:0', grad_fn=<DivBackward0>)\n",
            "4 975 tensor(0.6019, device='cuda:0', grad_fn=<DivBackward0>)\n",
            "4 1000 tensor(0.6019, device='cuda:0', grad_fn=<DivBackward0>)\n",
            "4 1025 tensor(0.6019, device='cuda:0', grad_fn=<DivBackward0>)\n",
            "4 1050 tensor(0.6019, device='cuda:0', grad_fn=<DivBackward0>)\n",
            "4 1075 tensor(0.6019, device='cuda:0', grad_fn=<DivBackward0>)\n",
            "4 1100 tensor(0.6019, device='cuda:0', grad_fn=<DivBackward0>)\n",
            "4 1125 tensor(0.6019, device='cuda:0', grad_fn=<DivBackward0>)\n",
            "4 1150 tensor(0.6019, device='cuda:0', grad_fn=<DivBackward0>)\n",
            "4 1175 tensor(0.6019, device='cuda:0', grad_fn=<DivBackward0>)\n",
            "4 1200 tensor(0.6019, device='cuda:0', grad_fn=<DivBackward0>)\n",
            "4 1225 tensor(0.6019, device='cuda:0', grad_fn=<DivBackward0>)\n",
            "4 1250 tensor(0.6019, device='cuda:0', grad_fn=<DivBackward0>)\n",
            "4 1275 tensor(0.6019, device='cuda:0', grad_fn=<DivBackward0>)\n",
            "4 1300 tensor(0.6019, device='cuda:0', grad_fn=<DivBackward0>)\n",
            "4 1325 tensor(0.6019, device='cuda:0', grad_fn=<DivBackward0>)\n",
            "4 1350 tensor(0.6019, device='cuda:0', grad_fn=<DivBackward0>)\n",
            "4 1375 tensor(0.6019, device='cuda:0', grad_fn=<DivBackward0>)\n"
          ]
        },
        {
          "output_type": "error",
          "ename": "KeyboardInterrupt",
          "evalue": "ignored",
          "traceback": [
            "\u001b[0;31m---------------------------------------------------------------------------\u001b[0m",
            "\u001b[0;31mKeyboardInterrupt\u001b[0m                         Traceback (most recent call last)",
            "\u001b[0;32m<ipython-input-25-b8f9dadfd3c4>\u001b[0m in \u001b[0;36m<cell line: 1>\u001b[0;34m()\u001b[0m\n\u001b[1;32m     12\u001b[0m       \u001b[0mval_loss\u001b[0m \u001b[0;34m=\u001b[0m \u001b[0;36m0\u001b[0m\u001b[0;34m\u001b[0m\u001b[0;34m\u001b[0m\u001b[0m\n\u001b[1;32m     13\u001b[0m       \u001b[0;32mfor\u001b[0m \u001b[0mitem\u001b[0m \u001b[0;32min\u001b[0m \u001b[0mval_split\u001b[0m\u001b[0;34m:\u001b[0m\u001b[0;34m\u001b[0m\u001b[0;34m\u001b[0m\u001b[0m\n\u001b[0;32m---> 14\u001b[0;31m         \u001b[0mval_loss\u001b[0m \u001b[0;34m+=\u001b[0m \u001b[0mgetValErrors\u001b[0m\u001b[0;34m(\u001b[0m\u001b[0mitem\u001b[0m\u001b[0;34m)\u001b[0m\u001b[0;34m\u001b[0m\u001b[0;34m\u001b[0m\u001b[0m\n\u001b[0m\u001b[1;32m     15\u001b[0m       \u001b[0mval_loss\u001b[0m \u001b[0;34m/=\u001b[0m \u001b[0mlen\u001b[0m\u001b[0;34m(\u001b[0m\u001b[0mval_split\u001b[0m\u001b[0;34m)\u001b[0m\u001b[0;34m\u001b[0m\u001b[0;34m\u001b[0m\u001b[0m\n\u001b[1;32m     16\u001b[0m       \u001b[0;32mif\u001b[0m \u001b[0mval_loss\u001b[0m \u001b[0;34m<\u001b[0m \u001b[0mbest_loss\u001b[0m\u001b[0;34m:\u001b[0m\u001b[0;34m\u001b[0m\u001b[0;34m\u001b[0m\u001b[0m\n",
            "\u001b[0;32m<ipython-input-19-4bfdcc62042b>\u001b[0m in \u001b[0;36mgetValErrors\u001b[0;34m(graph, model)\u001b[0m\n\u001b[1;32m      1\u001b[0m \u001b[0;32mdef\u001b[0m \u001b[0mgetValErrors\u001b[0m\u001b[0;34m(\u001b[0m\u001b[0mgraph\u001b[0m\u001b[0;34m,\u001b[0m \u001b[0mmodel\u001b[0m\u001b[0;34m=\u001b[0m\u001b[0mmodel\u001b[0m\u001b[0;34m)\u001b[0m\u001b[0;34m:\u001b[0m\u001b[0;34m\u001b[0m\u001b[0;34m\u001b[0m\u001b[0m\n\u001b[1;32m      2\u001b[0m   \u001b[0mgraph\u001b[0m\u001b[0;34m.\u001b[0m\u001b[0mto\u001b[0m\u001b[0;34m(\u001b[0m\u001b[0mdevice\u001b[0m\u001b[0;34m)\u001b[0m\u001b[0;34m\u001b[0m\u001b[0;34m\u001b[0m\u001b[0m\n\u001b[0;32m----> 3\u001b[0;31m   \u001b[0moutput\u001b[0m \u001b[0;34m=\u001b[0m \u001b[0mgetPrediction\u001b[0m\u001b[0;34m(\u001b[0m\u001b[0mgraph\u001b[0m\u001b[0;34m,\u001b[0m\u001b[0mmodel\u001b[0m\u001b[0;34m)\u001b[0m\u001b[0;34m\u001b[0m\u001b[0;34m\u001b[0m\u001b[0m\n\u001b[0m\u001b[1;32m      4\u001b[0m   \u001b[0;32mreturn\u001b[0m \u001b[0merror\u001b[0m\u001b[0;34m(\u001b[0m\u001b[0moutput\u001b[0m\u001b[0;34m,\u001b[0m \u001b[0mgraph\u001b[0m\u001b[0;34m.\u001b[0m\u001b[0my\u001b[0m\u001b[0;34m)\u001b[0m\u001b[0;34m\u001b[0m\u001b[0;34m\u001b[0m\u001b[0m\n\u001b[1;32m      5\u001b[0m \u001b[0;34m\u001b[0m\u001b[0m\n",
            "\u001b[0;32m<ipython-input-16-f078c7322b31>\u001b[0m in \u001b[0;36mgetPrediction\u001b[0;34m(graph, model)\u001b[0m\n\u001b[1;32m      1\u001b[0m \u001b[0;32mdef\u001b[0m \u001b[0mgetPrediction\u001b[0m\u001b[0;34m(\u001b[0m\u001b[0mgraph\u001b[0m\u001b[0;34m,\u001b[0m \u001b[0mmodel\u001b[0m\u001b[0;34m)\u001b[0m\u001b[0;34m:\u001b[0m\u001b[0;34m\u001b[0m\u001b[0;34m\u001b[0m\u001b[0m\n\u001b[1;32m      2\u001b[0m   \u001b[0mx\u001b[0m\u001b[0;34m,\u001b[0m \u001b[0medge_index\u001b[0m\u001b[0;34m,\u001b[0m \u001b[0medge_attr\u001b[0m \u001b[0;34m=\u001b[0m \u001b[0mextractGraph\u001b[0m\u001b[0;34m(\u001b[0m\u001b[0mgraph\u001b[0m\u001b[0;34m)\u001b[0m\u001b[0;34m\u001b[0m\u001b[0;34m\u001b[0m\u001b[0m\n\u001b[0;32m----> 3\u001b[0;31m   \u001b[0;32mreturn\u001b[0m \u001b[0mmodel\u001b[0m\u001b[0;34m(\u001b[0m\u001b[0mx\u001b[0m\u001b[0;34m,\u001b[0m \u001b[0medge_index\u001b[0m\u001b[0;34m,\u001b[0m \u001b[0medge_attr\u001b[0m\u001b[0;34m)\u001b[0m\u001b[0;34m\u001b[0m\u001b[0;34m\u001b[0m\u001b[0m\n\u001b[0m",
            "\u001b[0;32m/usr/local/lib/python3.10/dist-packages/torch/nn/modules/module.py\u001b[0m in \u001b[0;36m_call_impl\u001b[0;34m(self, *args, **kwargs)\u001b[0m\n\u001b[1;32m   1499\u001b[0m                 \u001b[0;32mor\u001b[0m \u001b[0m_global_backward_pre_hooks\u001b[0m \u001b[0;32mor\u001b[0m \u001b[0m_global_backward_hooks\u001b[0m\u001b[0;34m\u001b[0m\u001b[0;34m\u001b[0m\u001b[0m\n\u001b[1;32m   1500\u001b[0m                 or _global_forward_hooks or _global_forward_pre_hooks):\n\u001b[0;32m-> 1501\u001b[0;31m             \u001b[0;32mreturn\u001b[0m \u001b[0mforward_call\u001b[0m\u001b[0;34m(\u001b[0m\u001b[0;34m*\u001b[0m\u001b[0margs\u001b[0m\u001b[0;34m,\u001b[0m \u001b[0;34m**\u001b[0m\u001b[0mkwargs\u001b[0m\u001b[0;34m)\u001b[0m\u001b[0;34m\u001b[0m\u001b[0;34m\u001b[0m\u001b[0m\n\u001b[0m\u001b[1;32m   1502\u001b[0m         \u001b[0;31m# Do not call functions when jit is used\u001b[0m\u001b[0;34m\u001b[0m\u001b[0;34m\u001b[0m\u001b[0m\n\u001b[1;32m   1503\u001b[0m         \u001b[0mfull_backward_hooks\u001b[0m\u001b[0;34m,\u001b[0m \u001b[0mnon_full_backward_hooks\u001b[0m \u001b[0;34m=\u001b[0m \u001b[0;34m[\u001b[0m\u001b[0;34m]\u001b[0m\u001b[0;34m,\u001b[0m \u001b[0;34m[\u001b[0m\u001b[0;34m]\u001b[0m\u001b[0;34m\u001b[0m\u001b[0;34m\u001b[0m\u001b[0m\n",
            "\u001b[0;32m<ipython-input-13-a7f04b9cacb3>\u001b[0m in \u001b[0;36mforward\u001b[0;34m(self, x, edge_index, edge_attr)\u001b[0m\n\u001b[1;32m     25\u001b[0m \u001b[0;34m\u001b[0m\u001b[0m\n\u001b[1;32m     26\u001b[0m   \u001b[0;32mdef\u001b[0m \u001b[0mforward\u001b[0m\u001b[0;34m(\u001b[0m\u001b[0mself\u001b[0m\u001b[0;34m,\u001b[0m\u001b[0mx\u001b[0m\u001b[0;34m,\u001b[0m\u001b[0medge_index\u001b[0m\u001b[0;34m,\u001b[0m\u001b[0medge_attr\u001b[0m\u001b[0;34m)\u001b[0m\u001b[0;34m:\u001b[0m\u001b[0;34m\u001b[0m\u001b[0;34m\u001b[0m\u001b[0m\n\u001b[0;32m---> 27\u001b[0;31m     \u001b[0mx\u001b[0m \u001b[0;34m=\u001b[0m \u001b[0mself\u001b[0m\u001b[0;34m.\u001b[0m\u001b[0mgconv1\u001b[0m\u001b[0;34m(\u001b[0m\u001b[0mx\u001b[0m\u001b[0;34m,\u001b[0m \u001b[0medge_index\u001b[0m\u001b[0;34m,\u001b[0m \u001b[0medge_weight\u001b[0m \u001b[0;34m=\u001b[0m \u001b[0medge_attr\u001b[0m\u001b[0;34m)\u001b[0m\u001b[0;34m\u001b[0m\u001b[0;34m\u001b[0m\u001b[0m\n\u001b[0m\u001b[1;32m     28\u001b[0m     \u001b[0;31m#print(x)\u001b[0m\u001b[0;34m\u001b[0m\u001b[0;34m\u001b[0m\u001b[0m\n\u001b[1;32m     29\u001b[0m     \u001b[0mx1\u001b[0m \u001b[0;34m=\u001b[0m \u001b[0mself\u001b[0m\u001b[0;34m.\u001b[0m\u001b[0mf1\u001b[0m\u001b[0;34m(\u001b[0m\u001b[0mx\u001b[0m\u001b[0;34m)\u001b[0m\u001b[0;34m\u001b[0m\u001b[0;34m\u001b[0m\u001b[0m\n",
            "\u001b[0;32m/usr/local/lib/python3.10/dist-packages/torch/nn/modules/module.py\u001b[0m in \u001b[0;36m_call_impl\u001b[0;34m(self, *args, **kwargs)\u001b[0m\n\u001b[1;32m   1499\u001b[0m                 \u001b[0;32mor\u001b[0m \u001b[0m_global_backward_pre_hooks\u001b[0m \u001b[0;32mor\u001b[0m \u001b[0m_global_backward_hooks\u001b[0m\u001b[0;34m\u001b[0m\u001b[0;34m\u001b[0m\u001b[0m\n\u001b[1;32m   1500\u001b[0m                 or _global_forward_hooks or _global_forward_pre_hooks):\n\u001b[0;32m-> 1501\u001b[0;31m             \u001b[0;32mreturn\u001b[0m \u001b[0mforward_call\u001b[0m\u001b[0;34m(\u001b[0m\u001b[0;34m*\u001b[0m\u001b[0margs\u001b[0m\u001b[0;34m,\u001b[0m \u001b[0;34m**\u001b[0m\u001b[0mkwargs\u001b[0m\u001b[0;34m)\u001b[0m\u001b[0;34m\u001b[0m\u001b[0;34m\u001b[0m\u001b[0m\n\u001b[0m\u001b[1;32m   1502\u001b[0m         \u001b[0;31m# Do not call functions when jit is used\u001b[0m\u001b[0;34m\u001b[0m\u001b[0;34m\u001b[0m\u001b[0m\n\u001b[1;32m   1503\u001b[0m         \u001b[0mfull_backward_hooks\u001b[0m\u001b[0;34m,\u001b[0m \u001b[0mnon_full_backward_hooks\u001b[0m \u001b[0;34m=\u001b[0m \u001b[0;34m[\u001b[0m\u001b[0;34m]\u001b[0m\u001b[0;34m,\u001b[0m \u001b[0;34m[\u001b[0m\u001b[0;34m]\u001b[0m\u001b[0;34m\u001b[0m\u001b[0;34m\u001b[0m\u001b[0m\n",
            "\u001b[0;32m/usr/local/lib/python3.10/dist-packages/torch_geometric/nn/conv/gated_graph_conv.py\u001b[0m in \u001b[0;36mforward\u001b[0;34m(self, x, edge_index, edge_weight)\u001b[0m\n\u001b[1;32m     75\u001b[0m \u001b[0;34m\u001b[0m\u001b[0m\n\u001b[1;32m     76\u001b[0m         \u001b[0;32mfor\u001b[0m \u001b[0mi\u001b[0m \u001b[0;32min\u001b[0m \u001b[0mrange\u001b[0m\u001b[0;34m(\u001b[0m\u001b[0mself\u001b[0m\u001b[0;34m.\u001b[0m\u001b[0mnum_layers\u001b[0m\u001b[0;34m)\u001b[0m\u001b[0;34m:\u001b[0m\u001b[0;34m\u001b[0m\u001b[0;34m\u001b[0m\u001b[0m\n\u001b[0;32m---> 77\u001b[0;31m             \u001b[0mm\u001b[0m \u001b[0;34m=\u001b[0m \u001b[0mtorch\u001b[0m\u001b[0;34m.\u001b[0m\u001b[0mmatmul\u001b[0m\u001b[0;34m(\u001b[0m\u001b[0mx\u001b[0m\u001b[0;34m,\u001b[0m \u001b[0mself\u001b[0m\u001b[0;34m.\u001b[0m\u001b[0mweight\u001b[0m\u001b[0;34m[\u001b[0m\u001b[0mi\u001b[0m\u001b[0;34m]\u001b[0m\u001b[0;34m)\u001b[0m\u001b[0;34m\u001b[0m\u001b[0;34m\u001b[0m\u001b[0m\n\u001b[0m\u001b[1;32m     78\u001b[0m             \u001b[0;31m# propagate_type: (x: Tensor, edge_weight: OptTensor)\u001b[0m\u001b[0;34m\u001b[0m\u001b[0;34m\u001b[0m\u001b[0m\n\u001b[1;32m     79\u001b[0m             m = self.propagate(edge_index, x=m, edge_weight=edge_weight,\n",
            "\u001b[0;31mKeyboardInterrupt\u001b[0m: "
          ]
        }
      ]
    },
    {
      "cell_type": "code",
      "source": [
        "model.load_state_dict(torch.load('/content/drive/MyDrive/Datasets/bbc-full-text-document-classification/models/cheackpoints.pt'))"
      ],
      "metadata": {
        "id": "4IlJWTAyeT2X",
        "outputId": "ede1fa84-75a4-44d4-d574-99db8cea7bff",
        "colab": {
          "base_uri": "https://localhost:8080/"
        }
      },
      "execution_count": null,
      "outputs": [
        {
          "output_type": "execute_result",
          "data": {
            "text/plain": [
              "<All keys matched successfully>"
            ]
          },
          "metadata": {},
          "execution_count": 38
        }
      ]
    },
    {
      "cell_type": "code",
      "source": [
        "165/222"
      ],
      "metadata": {
        "id": "ObRC8fimfAEX",
        "outputId": "34568d18-aaf7-4e58-8c2e-6e7e2f0568c2",
        "colab": {
          "base_uri": "https://localhost:8080/"
        }
      },
      "execution_count": null,
      "outputs": [
        {
          "output_type": "execute_result",
          "data": {
            "text/plain": [
              "0.7432432432432432"
            ]
          },
          "metadata": {},
          "execution_count": 41
        }
      ]
    },
    {
      "cell_type": "code",
      "source": [
        "c = 0\n",
        "for item in train_set:\n",
        "  item\n",
        "  model.to('cpu')\n",
        "  if np.argmax(getPrediction(item, model).detach().numpy()) == np.argmax(item.y.detach().numpy()):\n",
        "    c += 1\n",
        "\n",
        "print(f\"{c} from {len(train_set)}\")"
      ],
      "metadata": {
        "id": "HvrT_FO7c4E6",
        "outputId": "a8590dba-4ff4-436c-c19b-86e3b40837e9",
        "colab": {
          "base_uri": "https://localhost:8080/"
        }
      },
      "execution_count": 28,
      "outputs": [
        {
          "output_type": "stream",
          "name": "stdout",
          "text": [
            "1439 from 1779\n"
          ]
        }
      ]
    },
    {
      "cell_type": "markdown",
      "source": [
        "\n",
        "\n",
        "```\n",
        "# 165 from 222 for m1\n",
        "# 40 from 222\n",
        "\n",
        "\n",
        "```\n",
        "\n"
      ],
      "metadata": {
        "id": "u9NYmQnJeLwP"
      }
    },
    {
      "cell_type": "code",
      "source": [
        "def sqr(num):\n",
        "  return num**2\n",
        "sqr = np.vectorize(sqr)"
      ],
      "metadata": {
        "id": "f_x3T_Zz8UsT"
      },
      "execution_count": null,
      "outputs": []
    },
    {
      "cell_type": "code",
      "source": [
        "x = torch.randn(10,)"
      ],
      "metadata": {
        "id": "Pv62fMhB8a3c"
      },
      "execution_count": null,
      "outputs": []
    },
    {
      "cell_type": "code",
      "source": [
        "torch.tensor(sqr(x))"
      ],
      "metadata": {
        "colab": {
          "base_uri": "https://localhost:8080/"
        },
        "id": "DltFR8_R8knr",
        "outputId": "b32afdea-2e82-480a-d452-74aed7c274bc"
      },
      "execution_count": null,
      "outputs": [
        {
          "output_type": "execute_result",
          "data": {
            "text/plain": [
              "tensor([1.2091, 0.2429, 2.7144, 0.1128, 0.2558, 0.0573, 0.2809, 0.4439, 1.9288,\n",
              "        0.9987], dtype=torch.float64)"
            ]
          },
          "metadata": {},
          "execution_count": 56
        }
      ]
    },
    {
      "cell_type": "code",
      "source": [],
      "metadata": {
        "id": "9utNR4_v8mPi"
      },
      "execution_count": null,
      "outputs": []
    }
  ]
}